{
 "cells": [
  {
   "cell_type": "code",
   "execution_count": 1,
   "metadata": {},
   "outputs": [],
   "source": [
    "import pandas as pd\n",
    "import strategies"
   ]
  },
  {
   "cell_type": "code",
   "execution_count": 2,
   "metadata": {},
   "outputs": [],
   "source": [
    "class Simulator:\n",
    "    def __init__(self, strategy):\n",
    "        self.data_frame = strategy.get_data_frame()\n",
    "        benefits = []\n",
    "        drawdowns = []\n",
    "        bought = False\n",
    "        max_benefit = -1\n",
    "\n",
    "        index = self.data_frame['close'].keys()\n",
    "\n",
    "        for date in index:\n",
    "            close_price = self.data_frame['close'][date]\n",
    "\n",
    "            order_type, benefit = strategy.has_order(date)\n",
    "\n",
    "            if order_type == strategies.OrderType.buy:\n",
    "                bought = True\n",
    "                if len(benefits) == 0:\n",
    "                    benefits.append(1)\n",
    "                else:\n",
    "                    benefits.append(benefits[-1])\n",
    "            elif order_type == strategies.OrderType.sell:\n",
    "                bought = False\n",
    "                benefits.append(benefits[-1] * (close_price / strategy.get_previous_price(date)))\n",
    "            elif order_type == strategies.OrderType.day_trade:\n",
    "                if len(benefits) == 0:\n",
    "                    benefits.append(benefit)                    \n",
    "                else:\n",
    "                    benefits.append(benefits[-1] * benefit)\n",
    "            else:\n",
    "                if len(benefits) == 0:\n",
    "                    benefits.append(1)\n",
    "                elif bought:\n",
    "                    benefits.append(benefits[-1] * (close_price / strategy.get_previous_price(date)))\n",
    "                else:\n",
    "                    benefits.append(benefits[-1])\n",
    "\n",
    "            if benefits[-1] > max_benefit:\n",
    "                max_benefit = benefits[-1]\n",
    "\n",
    "            drawdowns.append(1 - (benefits[-1] / max_benefit))\n",
    "\n",
    "        self.mdd = max(drawdowns)\n",
    "        self.cagr = benefits[-1] - 1\n",
    "        self.data_frame['benefit'] = pd.Series(benefits, index)\n",
    "        self.data_frame['drawdown'] = pd.Series(drawdowns, index)\n",
    "\n",
    "    def get_data_frame(self):\n",
    "        return self.data_frame\n",
    "\n",
    "    def get_mdd(self):\n",
    "        return self.mdd\n",
    "\n",
    "    def get_cagr(self):\n",
    "        return self.cagr"
   ]
  },
  {
   "cell_type": "code",
   "execution_count": null,
   "metadata": {},
   "outputs": [],
   "source": []
  }
 ],
 "metadata": {
  "kernelspec": {
   "display_name": "Python 3",
   "language": "python",
   "name": "python3"
  },
  "language_info": {
   "codemirror_mode": {
    "name": "ipython",
    "version": 3
   },
   "file_extension": ".py",
   "mimetype": "text/x-python",
   "name": "python",
   "nbconvert_exporter": "python",
   "pygments_lexer": "ipython3",
   "version": "3.7.0"
  }
 },
 "nbformat": 4,
 "nbformat_minor": 2
}
