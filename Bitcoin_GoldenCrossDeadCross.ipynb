{
 "cells": [
  {
   "cell_type": "code",
   "execution_count": 1,
   "metadata": {},
   "outputs": [],
   "source": [
    "import pandas as pd\n",
    "import db"
   ]
  },
  {
   "cell_type": "code",
   "execution_count": 2,
   "metadata": {},
   "outputs": [],
   "source": [
    "#db.create_db()"
   ]
  },
  {
   "cell_type": "code",
   "execution_count": 3,
   "metadata": {},
   "outputs": [],
   "source": [
    "import coin_repository"
   ]
  },
  {
   "cell_type": "code",
   "execution_count": 4,
   "metadata": {},
   "outputs": [],
   "source": [
    "from matplotlib import pyplot as plt\n",
    "import pandas as pd"
   ]
  },
  {
   "cell_type": "code",
   "execution_count": 5,
   "metadata": {
    "scrolled": true
   },
   "outputs": [
    {
     "ename": "AttributeError",
     "evalue": "type object 'CoinRepository' has no attribute 'get_data'",
     "traceback": [
      "\u001b[0;31m---------------------------------------------------------------------------\u001b[0m",
      "\u001b[0;31mAttributeError\u001b[0m                            Traceback (most recent call last)",
      "\u001b[0;32m<ipython-input-5-6e0b063e3f55>\u001b[0m in \u001b[0;36m<module>\u001b[0;34m()\u001b[0m\n\u001b[0;32m----> 1\u001b[0;31m \u001b[0mbitcoin_origin\u001b[0m \u001b[0;34m=\u001b[0m \u001b[0mcoin_repository\u001b[0m\u001b[0;34m.\u001b[0m\u001b[0mCoinRepository\u001b[0m\u001b[0;34m.\u001b[0m\u001b[0mget_data\u001b[0m\u001b[0;34m(\u001b[0m\u001b[0;34m)\u001b[0m\u001b[0;34m\u001b[0m\u001b[0m\n\u001b[0m\u001b[1;32m      2\u001b[0m \u001b[0mclose_prices\u001b[0m \u001b[0;34m=\u001b[0m \u001b[0;34m{\u001b[0m\u001b[0;34m}\u001b[0m\u001b[0;34m\u001b[0m\u001b[0m\n\u001b[1;32m      3\u001b[0m \u001b[0mfive_days\u001b[0m \u001b[0;34m=\u001b[0m \u001b[0;34m[\u001b[0m\u001b[0;34m]\u001b[0m\u001b[0;34m\u001b[0m\u001b[0m\n\u001b[1;32m      4\u001b[0m \u001b[0mtwenty_days\u001b[0m \u001b[0;34m=\u001b[0m \u001b[0;34m[\u001b[0m\u001b[0;34m]\u001b[0m\u001b[0;34m\u001b[0m\u001b[0m\n\u001b[1;32m      5\u001b[0m \u001b[0mma5\u001b[0m \u001b[0;34m=\u001b[0m \u001b[0;34m{\u001b[0m\u001b[0;34m}\u001b[0m\u001b[0;34m\u001b[0m\u001b[0m\n",
      "\u001b[0;31mAttributeError\u001b[0m: type object 'CoinRepository' has no attribute 'get_data'"
     ],
     "output_type": "error"
    }
   ],
   "source": [
    "bitcoin_origin = coin_repository.CoinRepository.get_data_frame()\n",
    "close_prices = {}\n",
    "five_days = []\n",
    "twenty_days = []\n",
    "ma5 = {}\n",
    "ma20 = {}\n",
    "\n",
    "count = 0\n",
    "\n",
    "for x in bitcoin_origin['close']:\n",
    "    count +=1\n",
    "    if count > 100:\n",
    "        break\n",
    "    close_price = bitcoin_origin['close'][x]\n",
    "    close_prices[x] = close_price\n",
    "    five_days.append(close_price)\n",
    "    if len(five_days) < 5:\n",
    "        continue\n",
    "    if len(five_days) == 6:\n",
    "        five_days.pop(0)\n",
    "    average_5 = sum(five_days) / len(five_days)\n",
    "    ma5[x] = average_5\n",
    "    \n",
    "count = 0\n",
    "\n",
    "for x in bitcoin_origin['close']:\n",
    "    count += 1\n",
    "    if count > 100:\n",
    "        break\n",
    "    close_price = bitcoin_origin['close'][x]\n",
    "    twenty_days.append(close_price)\n",
    "    \n",
    "    if len(twenty_days) < 20:\n",
    "        continue\n",
    "    if len(twenty_days) == 21:\n",
    "        twenty_days.pop(0)\n",
    "    average_20 = sum(twenty_days) / len(twenty_days)\n",
    "    ma20[x] = average_20\n",
    "\n",
    "data = {\n",
    "    'close': close_prices,\n",
    "    'ma5': ma5,\n",
    "    'ma20': ma20\n",
    "}\n",
    "df = pd.DataFrame(data)\n",
    "df.plot()"
   ]
  },
  {
   "cell_type": "code",
   "execution_count": null,
   "metadata": {},
   "outputs": [],
   "source": [
    "origin = coin_repository.get_data()\n",
    "data = {\n",
    "    'close': origin['close']\n",
    "}\n",
    "close_series = pd.Series(data['close'])\n",
    "data['ma5'] = close_series.rolling(window=5).mean()\n",
    "data['ma20'] = close_series.rolling(window=20).mean()\n",
    "del data['close']\n",
    "df = pd.DataFrame(data)\n",
    "df.plot()"
   ]
  },
  {
   "cell_type": "code",
   "execution_count": null,
   "metadata": {},
   "outputs": [],
   "source": [
    "(index, origin) = coin_repository.get_data_as_lists()\n",
    "data = {}\n",
    "new_index = index\n",
    "close_series = pd.Series(origin['close'], new_index)\n",
    "data['ma5'] = close_series.rolling(window=5).mean()\n",
    "data['ma20'] = close_series.rolling(window=20).mean()\n",
    "# data['close'] = close_series\n",
    "df = pd.DataFrame(data, new_index)\n",
    "df.plot()"
   ]
  },
  {
   "cell_type": "code",
   "execution_count": null,
   "metadata": {},
   "outputs": [],
   "source": [
    "(index, origin) = coin_repository.get_data_as_lists()\n",
    "data = {}\n",
    "new_index = index\n",
    "close_series = pd.Series(origin['close'], new_index)\n",
    "data['ma3'] = close_series.rolling(window=3).mean()\n",
    "data['ma5'] = close_series.rolling(window=5).mean()\n",
    "data['ma20'] = close_series.rolling(window=20).mean()\n",
    "# data['close'] = close_series\n",
    "df = pd.DataFrame(data, new_index)\n",
    "df.plot()"
   ]
  },
  {
   "cell_type": "code",
   "execution_count": null,
   "metadata": {
    "scrolled": true
   },
   "outputs": [],
   "source": [
    "(index, origin) = coin_repository.get_data_as_lists()\n",
    "data = {}\n",
    "new_index = index\n",
    "close_series = pd.Series(origin['close'], new_index)\n",
    "data['no_loss'] = 0\n",
    "data['ma5'] = close_series.rolling(window=5).mean()\n",
    "data['ma20'] = close_series.rolling(window=20).mean()\n",
    "data['ma5-ma20'] = data['ma5'] - data['ma20']\n",
    "# b = data['ma20'] - data['ma5']\n",
    "# data['close'] = close_series\n",
    "df = pd.DataFrame(data, new_index)\n",
    "\n",
    "df.plot()"
   ]
  },
  {
   "cell_type": "code",
   "execution_count": null,
   "metadata": {},
   "outputs": [],
   "source": [
    "import math\n",
    "(index, origin) = coin_repository.get_data_as_lists()\n",
    "data = {}\n",
    "new_index = index\n",
    "close_series = pd.Series(origin['close'], new_index)\n",
    "data['no_loss'] = 0\n",
    "data['ma5'] = close_series.rolling(window=5).mean()\n",
    "data['ma20'] = close_series.rolling(window=20).mean()\n",
    "data['ma5-ma20'] = data['ma5'] - data['ma20']\n",
    "data['acc'] = []\n",
    "for v in data['ma5-ma20']:\n",
    "    if math.isnan(v) or len(data['acc']) == 0 or math.isnan(data['acc'][-1]):\n",
    "        data['acc'].append(v)\n",
    "    else:\n",
    "        data['acc'].append(v + data['acc'][-1])\n",
    "\n",
    "df = pd.DataFrame(data, new_index)\n",
    "df.plot()\n"
   ]
  }
 ],
 "metadata": {
  "kernelspec": {
   "display_name": "Python 3",
   "language": "python",
   "name": "python3"
  },
  "language_info": {
   "codemirror_mode": {
    "name": "ipython",
    "version": 3
   },
   "file_extension": ".py",
   "mimetype": "text/x-python",
   "name": "python",
   "nbconvert_exporter": "python",
   "pygments_lexer": "ipython3",
   "version": "3.7.0"
  }
 },
 "nbformat": 4,
 "nbformat_minor": 2
}
