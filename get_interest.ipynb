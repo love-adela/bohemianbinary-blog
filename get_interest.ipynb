{
 "cells": [
  {
   "cell_type": "code",
   "execution_count": 1,
   "metadata": {},
   "outputs": [],
   "source": [
    "import pandas\n",
    "import matplotlib\n",
    "import datetime"
   ]
  },
  {
   "cell_type": "code",
   "execution_count": 2,
   "metadata": {},
   "outputs": [],
   "source": [
    "import coin_repository\n",
    "import strategies"
   ]
  },
  {
   "cell_type": "code",
   "execution_count": 3,
   "metadata": {},
   "outputs": [],
   "source": [
    "def get_interests(coin_repository, days=30):\n",
    "    coin_df = coin_repository.get_data_frame(duration=500)\n",
    "    closes = coin_df['close']\n",
    "    interest_dict = {}\n",
    "    for i in closes.keys():\n",
    "        j = i - datetime.timedelta(days)\n",
    "        if closes.get(j) is None:\n",
    "            continue\n",
    "        interest = (closes[i] / closes[j])\n",
    "    #     print(i, closes[i], closes[j], interest)\n",
    "        interest_dict[i] = interest\n",
    "        \n",
    "    return pandas.Series(interest_dict) \n",
    "#월별 수익률을 시리즈로 리턴한다."
   ]
  },
  {
   "cell_type": "code",
   "execution_count": 4,
   "metadata": {},
   "outputs": [],
   "source": [
    "# 1\n",
    "# get_interests(coin_repository.CoinRepository('ETH'))"
   ]
  },
  {
   "cell_type": "code",
   "execution_count": 5,
   "metadata": {},
   "outputs": [],
   "source": [
    "# get_interests(coin_repository.CoinRepository('ETH'), days=31)"
   ]
  },
  {
   "cell_type": "code",
   "execution_count": 6,
   "metadata": {},
   "outputs": [],
   "source": [
    "# get_interests(coin_repository.CoinRepository('ETH'), 30)"
   ]
  },
  {
   "cell_type": "code",
   "execution_count": 7,
   "metadata": {},
   "outputs": [],
   "source": [
    "# df = pandas.DataFrame({\n",
    "#     'ETH': get_interests(coin_repository.CoinRepository('ETH')),\n",
    "#     'BTC': get_interests(coin_repository.CoinRepository('BTC')),\n",
    "#     'XRP': get_interests(coin_repository.CoinRepository('XRP')),\n",
    "#     'BCH': get_interests(coin_repository.CoinRepository('BCH')),\n",
    "#     'EOS': get_interests(coin_repository.CoinRepository('EOS')),\n",
    "#     'XLM': get_interests(coin_repository.CoinRepository('XLM')),\n",
    "#     'LTC': get_interests(coin_repository.CoinRepository('LTC')),\n",
    "#     'ADA': get_interests(coin_repository.CoinRepository('ADA')),\n",
    "#     'MIOTA': get_interests(coin_repository.CoinRepository('MIOTA')),\n",
    "#     'USDT': get_interests(coin_repository.CoinRepository('USDT'))\n",
    "# })"
   ]
  },
  {
   "cell_type": "code",
   "execution_count": 8,
   "metadata": {},
   "outputs": [
    {
     "data": {
      "text/plain": [
       "[('ETH', 0.7481119409247294),\n",
       " ('BTC', 0.9353357807690882),\n",
       " ('XRP', 0.699905117338225),\n",
       " ('BCH', 0.7982901088112575),\n",
       " ('EOS', 0.7212903225806452),\n",
       " ('XLM', 0.96836420124177),\n",
       " ('LTC', 0.7728172149394015),\n",
       " ('ADA', 0.8126826271156168),\n",
       " ('MIOTA', 0.5899778846153846),\n",
       " ('USDT', 0.9900990099009901)]"
      ]
     },
     "execution_count": 8,
     "metadata": {},
     "output_type": "execute_result"
    }
   ],
   "source": [
    "import numpy\n",
    "\n",
    "# coins = ['ETH', 'BTC', 'XRP']\n",
    "coins = ['ETH', 'BTC', 'XRP', 'BCH', 'EOS', 'XLM', 'LTC', 'ADA', 'MIOTA', 'USDT']\n",
    "\n",
    "coin_dict = {}\n",
    "\n",
    "for coin in coins:\n",
    "    coin_dict[coin] = get_interests(coin_repository.CoinRepository(coin))\n",
    "df = pandas.DataFrame(coin_dict)\n",
    "# print(df['ETH'])\n",
    "\n",
    "coins_with_interests = []\n",
    "key_day = df.tail(1).index.item()\n",
    "for x in coins:\n",
    "    # TODO : 코드 리펙토링 필요\n",
    "    if not key_day in df[x].keys():\n",
    "        print(f\"{x} coin does not have a record at {key_day}.\")\n",
    "        continue\n",
    "    a = df[x][key_day]\n",
    "    if not numpy.isnan(a):\n",
    "        coins_with_interests.append((x, df[x][key_day]))\n",
    "        \n",
    "coins_with_interests"
   ]
  },
  {
   "cell_type": "code",
   "execution_count": 9,
   "metadata": {},
   "outputs": [
    {
     "data": {
      "text/plain": [
       "<matplotlib.axes._subplots.AxesSubplot at 0x11ac901d0>"
      ]
     },
     "execution_count": 9,
     "metadata": {},
     "output_type": "execute_result"
    }
   ],
   "source": [
    "df[coins].mean(axis=1).plot()"
   ]
  },
  {
   "cell_type": "code",
   "execution_count": 10,
   "metadata": {},
   "outputs": [],
   "source": [
    "# for x in ['ETH', 'BTC', 'XRP', 'BCH', 'EOS', 'XLM', 'LTC', 'ADA', 'MIOTA', 'USDT']:    \n",
    "#     if not numpy.isnan(a):\n",
    "#         coins_with_interests.append((x, df[x][df.tail(1).index.item()]))\n",
    "# print(coins_with_interests)"
   ]
  },
  {
   "cell_type": "code",
   "execution_count": 11,
   "metadata": {},
   "outputs": [],
   "source": [
    "# def getKey(row):\n",
    "#     return row[1] \n",
    "\n",
    "# sorted(coins_with_interests, key=getKey, reverse=True)\n",
    "\n"
   ]
  },
  {
   "cell_type": "code",
   "execution_count": 12,
   "metadata": {},
   "outputs": [],
   "source": [
    "import numpy\n",
    "\n",
    "# coins = ['ETH', 'BTC', 'XRP']\n",
    "coins = ['ETH', 'BTC', 'XRP', 'BCH', 'EOS', 'XLM', 'LTC', 'ADA', 'MIOTA', 'USDT']\n",
    "\n",
    "coin_dict = {}\n",
    "\n",
    "for coin in coins:\n",
    "    coin_dict[coin] = get_interests(coin_repository.CoinRepository(coin))\n",
    "    # 시계열 데이터 -> 시리즈, 엑셀같이 하나의 테이블 -> 데이터프레임\n",
    "    # 코인별 월별 수익률을 데이터프레임으로 보이기\n",
    "df = pandas.DataFrame(coin_dict)\n",
    "# print(df['ETH'])\n",
    "\n",
    "ms = 1.0\n",
    "for d in pandas.date_range(end=datetime.datetime.now(), periods=12, freq='M'):\n",
    "    coins_with_interests = []\n",
    "    for x in coins:\n",
    "        if not key_day in df[x].keys():\n",
    "            print(f\"{x} coin does not have a record at {d.date()}.\")\n",
    "            continue\n",
    "        a = df[x][d.date()]\n",
    "        if not numpy.isnan(a):\n",
    "            coins_with_interests.append((x, df[x][d.date()]))\n",
    "    ranked_coins = [k for (k, v) in sorted(coins_with_interests, key=lambda row: row[1], reverse=True) if not numpy.isnan(v)][:3]\n",
    "    # list comprehension\n",
    "    m = ms / 3\n",
    "    \n",
    "    "
   ]
  },
  {
   "cell_type": "code",
   "execution_count": 33,
   "metadata": {},
   "outputs": [
    {
     "data": {
      "text/plain": [
       "<matplotlib.axes._subplots.AxesSubplot at 0x11ab5ae48>"
      ]
     },
     "execution_count": 33,
     "metadata": {},
     "output_type": "execute_result"
    },
    {
     "data": {
      "image/png": "[encoded data removed]",
      "text/plain": [
       "<Figure size 432x288 with 1 Axes>"
      ]
     },
     "metadata": {},
     "output_type": "display_data"
    }
   ],
   "source": [
    "import numpy\n",
    "\n",
    "# coins = ['ETH', 'BTC', 'XRP']\n",
    "coins = ['ETH', 'BTC', 'XRP', 'BCH', 'EOS', 'XLM', 'LTC', 'ADA', 'MIOTA', 'USDT']\n",
    "\n",
    "coin_dict = {}\n",
    "\n",
    "for coin in coins:\n",
    "    coin_dict[coin] = get_interests(coin_repository.CoinRepository(coin))\n",
    "df = pandas.DataFrame(coin_dict)\n",
    "\n",
    "ms = 1.0\n",
    "\n",
    "ranks = [{}, {}, {}]\n",
    "\n",
    "for d in pandas.date_range(end=datetime.datetime.now(), periods=12, freq='M'):\n",
    "    coins_with_interests = []\n",
    "    for x in coins:\n",
    "        if not key_day in df[x].keys():\n",
    "            print(f\"{x} coin does not have a record at {d.date()}.\")\n",
    "            continue\n",
    "        a = df[x][d.date()]\n",
    "        if not numpy.isnan(a):\n",
    "            coins_with_interests.append((x, df[x][d.date()]))\n",
    "    ranked_coins = [k for (k, v) in sorted(coins_with_interests, key=lambda row: row[1], reverse=True) if not numpy.isnan(v)][:3]\n",
    "    cs = [coin_dict[coin] for coin in ranked_coins]\n",
    "    m = ms / 3\n",
    "    newms = 0\n",
    "    \n",
    "    index = 0\n",
    "    for c in cs:\n",
    "        start_date = d.date()\n",
    "        end_date = (start_date + pandas.tseries.offsets.MonthEnd(1)).date()\n",
    "\n",
    "        initial_value = c[start_date]\n",
    "        while start_date in c.keys() and start_date < end_date:\n",
    "            current_value = c[start_date]\n",
    "            interest = current_value / initial_value * m\n",
    "            ranks[index][start_date] = interest\n",
    "            start_date += datetime.timedelta(days=1)\n",
    "            \n",
    "        newms += interest\n",
    "        index += 1\n",
    "    ms = newms\n",
    "\n",
    "pandas.DataFrame({\n",
    "    '1st': ranks[0],\n",
    "    '2nd': ranks[1],\n",
    "    '3rd': ranks[2]\n",
    "}).plot()"
   ]
  },
  {
   "cell_type": "code",
   "execution_count": 14,
   "metadata": {},
   "outputs": [
    {
     "data": {
      "text/plain": [
       "DatetimeIndex(['2017-08-31 20:58:15.963894', '2017-09-30 20:58:15.963894',\n",
       "               '2017-10-31 20:58:15.963894', '2017-11-30 20:58:15.963894',\n",
       "               '2017-12-31 20:58:15.963894', '2018-01-31 20:58:15.963894',\n",
       "               '2018-02-28 20:58:15.963894', '2018-03-31 20:58:15.963894',\n",
       "               '2018-04-30 20:58:15.963894', '2018-05-31 20:58:15.963894',\n",
       "               '2018-06-30 20:58:15.963894', '2018-07-31 20:58:15.963894'],\n",
       "              dtype='datetime64[ns]', freq='M')"
      ]
     },
     "execution_count": 14,
     "metadata": {},
     "output_type": "execute_result"
    }
   ],
   "source": [
    "pandas.date_range(end=datetime.datetime.now(), periods=12, freq='M')"
   ]
  },
  {
   "cell_type": "code",
   "execution_count": 15,
   "metadata": {},
   "outputs": [],
   "source": [
    "# for d in pandas.date_range(end=datetime.datetime.now(), periods=12, freq='M'):\n",
    "#     print((d + pandas.tseries.offsets.MonthEnd(1) - datetime.timedelta(days=1)).date())"
   ]
  },
  {
   "cell_type": "code",
   "execution_count": 16,
   "metadata": {},
   "outputs": [],
   "source": [
    "# start_date = datetime.datetime(2017,8,1).date()\n",
    "# end_date = (start_date + pandas.tseries.offsets.MonthEnd(1)).date()\n",
    "# while start_date < end_date:\n",
    "#     print(start_date)\n",
    "#     start_date = (start_date + datetime.timedelta(days=1))"
   ]
  },
  {
   "cell_type": "code",
   "execution_count": 17,
   "metadata": {},
   "outputs": [
    {
     "name": "stdout",
     "output_type": "stream",
     "text": [
      "<coin_repository.CoinRepository object at 0x11a88f978>\n"
     ]
    }
   ],
   "source": [
    "print(coin_repository.CoinRepository('ETH'))"
   ]
  },
  {
   "cell_type": "code",
   "execution_count": 18,
   "metadata": {},
   "outputs": [
    {
     "ename": "IndentationError",
     "evalue": "expected an indented block (<ipython-input-18-633f502c0115>, line 5)",
     "output_type": "error",
     "traceback": [
      "\u001b[0;36m  File \u001b[0;32m\"<ipython-input-18-633f502c0115>\"\u001b[0;36m, line \u001b[0;32m5\u001b[0m\n\u001b[0;31m    def __iter__(self):\u001b[0m\n\u001b[0m      ^\u001b[0m\n\u001b[0;31mIndentationError\u001b[0m\u001b[0;31m:\u001b[0m expected an indented block\n"
     ]
    }
   ],
   "source": [
    "import random\n",
    "class CoinIterator:\n",
    "    def __init__(self):   \n",
    "        \n",
    "    def __iter__(self):\n",
    "        return self\n",
    "    \n",
    "    def __next__(self):\n",
    "        return random.random()\n",
    "\n",
    "c = CoinIterator()\n",
    "for i in c:\n",
    "    print(i)"
   ]
  },
  {
   "cell_type": "code",
   "execution_count": null,
   "metadata": {},
   "outputs": [],
   "source": [
    "index = [1,2,3]\n",
    "values = [4,5,6]\n",
    "pandas.Series(values, index).plot()"
   ]
  },
  {
   "cell_type": "code",
   "execution_count": null,
   "metadata": {},
   "outputs": [],
   "source": [
    "import pandas\n",
    "\n",
    "series = {\n",
    "    1: 4,\n",
    "    2: 5,\n",
    "    3: 6\n",
    "}\n",
    "pandas.Series(series).plot()"
   ]
  },
  {
   "cell_type": "code",
   "execution_count": null,
   "metadata": {},
   "outputs": [],
   "source": [
    "for i in range(60000):\n",
    "    print(i)"
   ]
  },
  {
   "cell_type": "code",
   "execution_count": null,
   "metadata": {},
   "outputs": [],
   "source": [
    "a = \"Hello\"\n",
    "a[0:1]"
   ]
  }
 ],
 "metadata": {
  "kernelspec": {
   "display_name": "Python 3",
   "language": "python",
   "name": "python3"
  },
  "language_info": {
   "codemirror_mode": {
    "name": "ipython",
    "version": 3
   },
   "file_extension": ".py",
   "mimetype": "text/x-python",
   "name": "python",
   "nbconvert_exporter": "python",
   "pygments_lexer": "ipython3",
   "version": "3.7.0"
  }
 },
 "nbformat": 4,
 "nbformat_minor": 2
}
