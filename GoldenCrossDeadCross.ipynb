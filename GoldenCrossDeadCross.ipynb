{
 "cells": [
  {
   "cell_type": "code",
   "execution_count": null,
   "metadata": {},
   "outputs": [
    {
     "ename": "ModuleNotFoundError",
     "evalue": "No module named 'pandas'",
     "traceback": [
      "\u001b[1;31m---------------------------------------------------------------------------\u001b[0m",
      "\u001b[1;31mModuleNotFoundError\u001b[0m                       Traceback (most recent call last)",
      "\u001b[1;32m<ipython-input-1-37cf6c938e24>\u001b[0m in \u001b[0;36m<module>\u001b[1;34m()\u001b[0m\n\u001b[1;32m----> 1\u001b[1;33m \u001b[1;32mimport\u001b[0m \u001b[0mdb\u001b[0m\u001b[1;33m\u001b[0m\u001b[0m\n\u001b[0m",
      "\u001b[1;32mD:\\project\\anl\\db.py\u001b[0m in \u001b[0;36m<module>\u001b[1;34m()\u001b[0m\n\u001b[0;32m      4\u001b[0m \u001b[1;32mfrom\u001b[0m \u001b[0msqlalchemy\u001b[0m \u001b[1;32mimport\u001b[0m \u001b[0mColumn\u001b[0m\u001b[1;33m,\u001b[0m \u001b[0mInteger\u001b[0m\u001b[1;33m,\u001b[0m \u001b[0mString\u001b[0m\u001b[1;33m,\u001b[0m \u001b[0mFloat\u001b[0m\u001b[1;33m,\u001b[0m \u001b[0mDateTime\u001b[0m\u001b[1;33m,\u001b[0m \u001b[0mDate\u001b[0m\u001b[1;33m\u001b[0m\u001b[0m\n\u001b[0;32m      5\u001b[0m \u001b[1;32mimport\u001b[0m \u001b[0msqlite3\u001b[0m\u001b[1;33m\u001b[0m\u001b[0m\n\u001b[1;32m----> 6\u001b[1;33m \u001b[1;32mimport\u001b[0m \u001b[0mpandas\u001b[0m \u001b[1;32mas\u001b[0m \u001b[0mpd\u001b[0m\u001b[1;33m\u001b[0m\u001b[0m\n\u001b[0m\u001b[0;32m      7\u001b[0m \u001b[1;32mimport\u001b[0m \u001b[0mnumpy\u001b[0m \u001b[1;32mas\u001b[0m \u001b[0mnp\u001b[0m\u001b[1;33m\u001b[0m\u001b[0m\n\u001b[0;32m      8\u001b[0m \u001b[1;32mfrom\u001b[0m \u001b[0mmatplotlib\u001b[0m \u001b[1;32mimport\u001b[0m \u001b[0mpyplot\u001b[0m \u001b[1;32mas\u001b[0m \u001b[0mplt\u001b[0m\u001b[1;33m\u001b[0m\u001b[0m\n",
      "\u001b[1;31mModuleNotFoundError\u001b[0m: No module named 'pandas'"
     ],
     "output_type": "error"
    }
   ],
   "source": [
    "import pandas as pd\n",
    "import db"
   ]
  },
  {
   "cell_type": "code",
   "execution_count": null,
   "metadata": {},
   "outputs": [],
   "source": [
    "#db.create_db()"
   ]
  },
  {
   "cell_type": "code",
   "execution_count": null,
   "metadata": {},
   "outputs": [],
   "source": [
    "import coin_repository"
   ]
  },
  {
   "cell_type": "code",
   "execution_count": null,
   "metadata": {},
   "outputs": [],
   "source": [
    "# coin_repository.print_stock()"
   ]
  },
  {
   "cell_type": "code",
   "execution_count": null,
   "metadata": {},
   "outputs": [],
   "source": [
    "# coin_repository.populate()"
   ]
  },
  {
   "cell_type": "code",
   "execution_count": null,
   "metadata": {},
   "outputs": [],
   "source": [
    "# coin_repository.get_data()"
   ]
  },
  {
   "cell_type": "code",
   "execution_count": null,
   "metadata": {},
   "outputs": [],
   "source": [
    "from matplotlib import pyplot as plt\n",
    "import pandas as pd"
   ]
  },
  {
   "cell_type": "code",
   "execution_count": null,
   "metadata": {
    "scrolled": true
   },
   "outputs": [],
   "source": [
    "origin = coin_repository.get_data()\n",
    "close_prices = {}\n",
    "five_days = []\n",
    "twenty_days = []\n",
    "ma5 = {}\n",
    "ma20 = {}\n",
    "\n",
    "count = 0\n",
    "\n",
    "for x in origin['close']:\n",
    "    count +=1\n",
    "    if count > 100:\n",
    "        break\n",
    "    close_price = origin['close'][x]\n",
    "    close_prices[x] = close_price\n",
    "    five_days.append(close_price)\n",
    "    if len(five_days) < 5:\n",
    "        continue\n",
    "    if len(five_days) == 6:\n",
    "        five_days.pop(0)\n",
    "    average_5 = sum(five_days) / len(five_days)\n",
    "    ma5[x] = average_5\n",
    "    \n",
    "count = 0\n",
    "\n",
    "for x in origin['close']:\n",
    "    count += 1\n",
    "    if count > 100:\n",
    "        break\n",
    "    close_price = origin['close'][x]\n",
    "    twenty_days.append(close_price)\n",
    "    \n",
    "    if len(twenty_days) < 20:\n",
    "        continue\n",
    "    if len(twenty_days) == 21:\n",
    "        twenty_days.pop(0)\n",
    "    average_20 = sum(twenty_days) / len(twenty_days)\n",
    "    ma20[x] = average_20\n",
    "\n",
    "data = {\n",
    "    'close': close_prices,\n",
    "    'ma5': ma5,\n",
    "    'ma20': ma20\n",
    "}\n",
    "df = pd.DataFrame(data)\n",
    "df.plot()"
   ]
  },
  {
   "cell_type": "code",
   "execution_count": null,
   "metadata": {},
   "outputs": [],
   "source": [
    "origin = coin_repository.get_data()\n",
    "data = {\n",
    "    'close': origin['close']\n",
    "}\n",
    "close_series = pd.Series(data['close'])\n",
    "data['ma5'] = close_series.rolling(window=5).mean()\n",
    "data['ma20'] = close_series.rolling(window=20).mean()\n",
    "del data['close']\n",
    "df = pd.DataFrame(data)\n",
    "df.plot()"
   ]
  },
  {
   "cell_type": "code",
   "execution_count": null,
   "metadata": {},
   "outputs": [],
   "source": [
    "(index, origin) = coin_repository.get_data_as_lists()\n",
    "data = {}\n",
    "new_index = index\n",
    "close_series = pd.Series(origin['close'], new_index)\n",
    "data['ma5'] = close_series.rolling(window=5).mean()\n",
    "data['ma20'] = close_series.rolling(window=20).mean()\n",
    "# data['close'] = close_series\n",
    "df = pd.DataFrame(data, new_index)\n",
    "df.plot()"
   ]
  },
  {
   "cell_type": "code",
   "execution_count": null,
   "metadata": {},
   "outputs": [],
   "source": [
    "(index, origin) = coin_repository.get_data_as_lists()\n",
    "data = {}\n",
    "new_index = index\n",
    "close_series = pd.Series(origin['close'], new_index)\n",
    "data['ma3'] = close_series.rolling(window=3).mean()\n",
    "data['ma5'] = close_series.rolling(window=5).mean()\n",
    "data['ma20'] = close_series.rolling(window=20).mean()\n",
    "# data['close'] = close_series\n",
    "df = pd.DataFrame(data, new_index)\n",
    "df.plot()"
   ]
  },
  {
   "cell_type": "code",
   "execution_count": null,
   "metadata": {
    "scrolled": true
   },
   "outputs": [],
   "source": [
    "(index, origin) = coin_repository.get_data_as_lists()\n",
    "data = {}\n",
    "new_index = index\n",
    "close_series = pd.Series(origin['close'], new_index)\n",
    "data['no_loss'] = 0\n",
    "data['ma5'] = close_series.rolling(window=5).mean()\n",
    "data['ma20'] = close_series.rolling(window=20).mean()\n",
    "data['ma5-ma20'] = data['ma5'] - data['ma20']\n",
    "# b = data['ma20'] - data['ma5']\n",
    "# data['close'] = close_series\n",
    "df = pd.DataFrame(data, new_index)\n",
    "\n",
    "df.plot()"
   ]
  },
  {
   "cell_type": "code",
   "execution_count": null,
   "metadata": {},
   "outputs": [],
   "source": [
    "import math\n",
    "(index, origin) = coin_repository.get_data_as_lists()\n",
    "data = {}\n",
    "new_index = index\n",
    "close_series = pd.Series(origin['close'], new_index)\n",
    "data['no_loss'] = 0\n",
    "data['ma5'] = close_series.rolling(window=5).mean()\n",
    "data['ma20'] = close_series.rolling(window=20).mean()\n",
    "data['ma5-ma20'] = data['ma5'] - data['ma20']\n",
    "data['acc'] = []\n",
    "for v in data['ma5-ma20']:\n",
    "    if math.isnan(v) or len(data['acc']) == 0 or math.isnan(data['acc'][-1]):\n",
    "        data['acc'].append(v)\n",
    "    else:\n",
    "        data['acc'].append(v + data['acc'][-1])\n",
    "\n",
    "df = pd.DataFrame(data, new_index)\n",
    "df.plot()\n"
   ]
  }
 ],
 "metadata": {
  "kernelspec": {
   "display_name": "Python 3",
   "language": "python",
   "name": "python3"
  },
  "language_info": {
   "codemirror_mode": {
    "name": "ipython",
    "version": 3
   },
   "file_extension": ".py",
   "mimetype": "text/x-python",
   "name": "python",
   "nbconvert_exporter": "python",
   "pygments_lexer": "ipython3",
   "version": "3.6.5"
  }
 },
 "nbformat": 4,
 "nbformat_minor": 2
}
