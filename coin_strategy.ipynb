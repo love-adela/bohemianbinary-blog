{
 "cells": [
  {
   "cell_type": "code",
   "execution_count": 1,
   "metadata": {},
   "outputs": [],
   "source": [
    "import db"
   ]
  },
  {
   "cell_type": "code",
   "execution_count": 2,
   "metadata": {},
   "outputs": [],
   "source": [
    "# db.create_db()"
   ]
  },
  {
   "cell_type": "code",
   "execution_count": 3,
   "metadata": {},
   "outputs": [],
   "source": [
    "import coin_repository"
   ]
  },
  {
   "cell_type": "code",
   "execution_count": 4,
   "metadata": {},
   "outputs": [],
   "source": [
    "from matplotlib import pyplot as plt\n",
    "import pandas as pd"
   ]
  },
  {
   "cell_type": "code",
   "execution_count": 6,
   "metadata": {},
   "outputs": [],
   "source": [
    "class TradeStrategy:\n",
    "    #인자?\n",
    "    def has_to_buy(self):\n",
    "        return true\n",
    "            \n",
    "    def has_to_sell(self):\n",
    "        return false"
   ]
  },
  {
   "cell_type": "code",
   "execution_count": 8,
   "metadata": {},
   "outputs": [],
   "source": [
    "class GCDC(Strategy):\n",
    "    \n",
    "    def has_to_buy(self):\n",
    "        pass\n",
    "            \n",
    "    def has_to_sell(self):\n",
    "        pass"
   ]
  },
  {
   "cell_type": "code",
   "execution_count": 24,
   "metadata": {},
   "outputs": [],
   "source": [
    "class Car:\n",
    "    def accel(self):\n",
    "        pass\n",
    "    def push_break(self):\n",
    "        pass\n",
    "\n",
    "class Accent(Car):\n",
    "    def __init__(self):\n",
    "        self.speed = 0\n",
    "        \n",
    "    def accel(self):\n",
    "        self.speed += 5\n",
    "        print(self.speed)\n",
    "    \n",
    "    def push_break(self):\n",
    "        self.speed -= 5\n",
    "        print(self.speed)\n",
    "\n",
    "class FutureCar(Car):\n",
    "    def __init__(self):\n",
    "        self.speed = 0\n",
    "        \n",
    "    def accel(self):\n",
    "        self.speed += 1\n",
    "        self.speed *= 2\n",
    "        print(self.speed)\n",
    "    \n",
    "    def push_break(self):\n",
    "        self.speed -= 10\n",
    "        print(self.speed)\n",
    "        "
   ]
  },
  {
   "cell_type": "code",
   "execution_count": 25,
   "metadata": {},
   "outputs": [],
   "source": [
    "a = FutureCar()"
   ]
  },
  {
   "cell_type": "code",
   "execution_count": 35,
   "metadata": {},
   "outputs": [
    {
     "name": "stdout",
     "output_type": "stream",
     "text": [
      "194\n"
     ]
    }
   ],
   "source": [
    "a.accel()"
   ]
  },
  {
   "cell_type": "code",
   "execution_count": 34,
   "metadata": {},
   "outputs": [
    {
     "name": "stdout",
     "output_type": "stream",
     "text": [
      "96\n"
     ]
    }
   ],
   "source": [
    "a.push_break()"
   ]
  }
 ],
 "metadata": {
  "kernelspec": {
   "display_name": "Python 3",
   "language": "python",
   "name": "python3"
  },
  "language_info": {
   "codemirror_mode": {
    "name": "ipython",
    "version": 3
   },
   "file_extension": ".py",
   "mimetype": "text/x-python",
   "name": "python",
   "nbconvert_exporter": "python",
   "pygments_lexer": "ipython3",
   "version": "3.6.5"
  }
 },
 "nbformat": 4,
 "nbformat_minor": 2
}
