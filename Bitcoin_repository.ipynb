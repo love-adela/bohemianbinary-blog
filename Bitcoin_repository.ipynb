{
 "cells": [
  {
   "cell_type": "code",
   "execution_count": 1,
   "metadata": {},
   "outputs": [],
   "source": [
    "import db"
   ]
  },
  {
   "cell_type": "code",
   "execution_count": 2,
   "metadata": {},
   "outputs": [],
   "source": [
    "import bs4"
   ]
  },
  {
   "cell_type": "code",
   "execution_count": 3,
   "metadata": {},
   "outputs": [],
   "source": [
    "import requests"
   ]
  },
  {
   "cell_type": "code",
   "execution_count": 4,
   "metadata": {},
   "outputs": [],
   "source": [
    "import datetime"
   ]
  },
  {
   "cell_type": "code",
   "execution_count": 5,
   "metadata": {},
   "outputs": [],
   "source": [
    "def print_stock():\n",
    "    session = db.Session()\n",
    "    for row in session.query(db.History).order_by(db.asc(db.History.date)).all():\n",
    "        print(f\"low: {row.low_price} / high: {row.high_price} / open: {row.open_price} / close: {row.close_price} \"\n",
    "              f\"/ date: {row.date}\")"
   ]
  },
  {
   "cell_type": "code",
   "execution_count": 6,
   "metadata": {},
   "outputs": [],
   "source": [
    "def populate():\n",
    "    session = db.Session()\n",
    "    response = requests.get('https://coinmarketcap.com/currencies/bitcoin/historical-data/?start=20170626&end=20180626')\n",
    "    soup = bs4.BeautifulSoup(response.content, 'html.parser')\n",
    "    wrap = soup.find('div', {'id': 'historical-data'})\n",
    "    table = wrap.find('table')\n",
    "    for tr in table.find_all('tr'):\n",
    "        tds = list(tr.find_all('td'))\n",
    "        if len(tds) == 0:\n",
    "            continue\n",
    "        date = datetime.datetime.strptime(tds[0].text, \"%b %d, %Y\")\n",
    "        open_price = tds[1].text\n",
    "        high_price = tds[2].text\n",
    "        low_price = tds[3].text\n",
    "        close_price = tds[4].text\n",
    "        session.add(db.History(date, open_price, high_price, low_price, close_price))\n",
    "    session.commit()"
   ]
  },
  {
   "cell_type": "code",
   "execution_count": 7,
   "metadata": {},
   "outputs": [],
   "source": [
    "def get_data():\n",
    "    session = db.Session()\n",
    "    open_prices = {}\n",
    "    high_prices = {}\n",
    "    low_prices = {}\n",
    "    close_prices = {}\n",
    "    for row in session.query(db.History).order_by(db.asc(db.History.date)):\n",
    "        open_prices[row.date] = row.open_price\n",
    "        high_prices[row.date] = row.high_price\n",
    "        low_prices[row.date] = row.low_price\n",
    "        close_prices[row.date] = row.close_price\n",
    "    return {\n",
    "        'open': open_prices,\n",
    "        'high': high_prices,\n",
    "        'low': low_prices,\n",
    "        'close': close_prices\n",
    "    }"
   ]
  },
  {
   "cell_type": "code",
   "execution_count": 8,
   "metadata": {},
   "outputs": [],
   "source": [
    "def get_data_as_lists():\n",
    "    session = db.Session()\n",
    "    open_prices = []\n",
    "    high_prices = []\n",
    "    low_prices = []\n",
    "    close_prices = []\n",
    "    index = []\n",
    "    for row in session.query(db.History).order_by(db.asc(db.History.date)):\n",
    "        open_prices.append(row.open_price)\n",
    "        high_prices.append(row.high_price)\n",
    "        low_prices.append(row.low_price)\n",
    "        close_prices.append(row.close_price)\n",
    "        index.append(row.date)\n",
    "    return (\n",
    "        index,\n",
    "        {\n",
    "            'open': open_prices,\n",
    "            'high': high_prices,\n",
    "            'low': low_prices,\n",
    "            'close': close_prices\n",
    "        }\n",
    "    )"
   ]
  }
 ],
 "metadata": {
  "kernelspec": {
   "display_name": "Python 3",
   "language": "python",
   "name": "python3"
  },
  "language_info": {
   "codemirror_mode": {
    "name": "ipython",
    "version": 3
   },
   "file_extension": ".py",
   "mimetype": "text/x-python",
   "name": "python",
   "nbconvert_exporter": "python",
   "pygments_lexer": "ipython3",
   "version": "3.6.5"
  }
 },
 "nbformat": 4,
 "nbformat_minor": 2
}
