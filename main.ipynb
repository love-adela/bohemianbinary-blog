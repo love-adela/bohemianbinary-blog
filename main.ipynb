{
 "cells": [
  {
   "cell_type": "code",
   "execution_count": 1,
   "metadata": {},
   "outputs": [],
   "source": [
    "import db"
   ]
  },
  {
   "cell_type": "code",
   "execution_count": 2,
   "metadata": {},
   "outputs": [],
   "source": [
    "import coin_repository"
   ]
  },
  {
   "cell_type": "code",
   "execution_count": 3,
   "metadata": {},
   "outputs": [],
   "source": [
    "from matplotlib import pyplot as plt\n",
    "import pandas as pd\n",
    "import math"
   ]
  },
  {
   "cell_type": "code",
   "execution_count": 4,
   "metadata": {},
   "outputs": [],
   "source": [
    "import strategies as st"
   ]
  },
  {
   "cell_type": "code",
   "execution_count": 5,
   "metadata": {},
   "outputs": [],
   "source": [
    "import simulator"
   ]
  },
  {
   "cell_type": "code",
   "execution_count": 6,
   "metadata": {},
   "outputs": [
    {
     "ename": "TypeError",
     "evalue": "unsupported operand type(s) for /: 'float' and 'NoneType'",
     "output_type": "error",
     "traceback": [
      "\u001b[0;31m---------------------------------------------------------------------------\u001b[0m",
      "\u001b[0;31mTypeError\u001b[0m                                 Traceback (most recent call last)",
      "\u001b[0;32m<ipython-input-6-3e4f8901aac4>\u001b[0m in \u001b[0;36m<module>\u001b[0;34m()\u001b[0m\n\u001b[0;32m----> 1\u001b[0;31m \u001b[0msim\u001b[0m \u001b[0;34m=\u001b[0m \u001b[0msimulator\u001b[0m\u001b[0;34m.\u001b[0m\u001b[0mSimulator\u001b[0m\u001b[0;34m(\u001b[0m\u001b[0mst\u001b[0m\u001b[0;34m.\u001b[0m\u001b[0mGcdcStrategy\u001b[0m\u001b[0;34m(\u001b[0m\u001b[0mpd\u001b[0m\u001b[0;34m.\u001b[0m\u001b[0mDataFrame\u001b[0m\u001b[0;34m(\u001b[0m\u001b[0mcoin_repository\u001b[0m\u001b[0;34m.\u001b[0m\u001b[0mCoinRepository\u001b[0m\u001b[0;34m(\u001b[0m\u001b[0;34m'ETH'\u001b[0m\u001b[0;34m)\u001b[0m\u001b[0;34m.\u001b[0m\u001b[0mget_data\u001b[0m\u001b[0;34m(\u001b[0m\u001b[0;34m)\u001b[0m\u001b[0;34m)\u001b[0m\u001b[0;34m)\u001b[0m\u001b[0;34m)\u001b[0m\u001b[0;34m\u001b[0m\u001b[0m\n\u001b[0m",
      "\u001b[0;32m~/repo/anl/simulator.py\u001b[0m in \u001b[0;36m__init__\u001b[0;34m(self, strategy)\u001b[0m\n\u001b[1;32m     27\u001b[0m                                         \u001b[0mbenefits\u001b[0m\u001b[0;34m.\u001b[0m\u001b[0mappend\u001b[0m\u001b[0;34m(\u001b[0m\u001b[0;36m1\u001b[0m\u001b[0;34m)\u001b[0m\u001b[0;34m\u001b[0m\u001b[0m\n\u001b[1;32m     28\u001b[0m                                 \u001b[0;32melif\u001b[0m \u001b[0mbought\u001b[0m\u001b[0;34m:\u001b[0m\u001b[0;34m\u001b[0m\u001b[0m\n\u001b[0;32m---> 29\u001b[0;31m                                         \u001b[0mbenefits\u001b[0m\u001b[0;34m.\u001b[0m\u001b[0mappend\u001b[0m\u001b[0;34m(\u001b[0m\u001b[0mbenefits\u001b[0m\u001b[0;34m[\u001b[0m\u001b[0;34m-\u001b[0m\u001b[0;36m1\u001b[0m\u001b[0;34m]\u001b[0m \u001b[0;34m*\u001b[0m \u001b[0;34m(\u001b[0m\u001b[0mclose_price\u001b[0m \u001b[0;34m/\u001b[0m \u001b[0mstrategy\u001b[0m\u001b[0;34m.\u001b[0m\u001b[0mget_bought_price\u001b[0m\u001b[0;34m(\u001b[0m\u001b[0mdate\u001b[0m\u001b[0;34m)\u001b[0m\u001b[0;34m)\u001b[0m\u001b[0;34m)\u001b[0m\u001b[0;34m\u001b[0m\u001b[0m\n\u001b[0m\u001b[1;32m     30\u001b[0m                                 \u001b[0;32melse\u001b[0m\u001b[0;34m:\u001b[0m\u001b[0;34m\u001b[0m\u001b[0m\n\u001b[1;32m     31\u001b[0m                                         \u001b[0mbenefits\u001b[0m\u001b[0;34m.\u001b[0m\u001b[0mappend\u001b[0m\u001b[0;34m(\u001b[0m\u001b[0mbenefits\u001b[0m\u001b[0;34m[\u001b[0m\u001b[0;34m-\u001b[0m\u001b[0;36m1\u001b[0m\u001b[0;34m]\u001b[0m\u001b[0;34m)\u001b[0m\u001b[0;34m\u001b[0m\u001b[0m\n",
      "\u001b[0;31mTypeError\u001b[0m: unsupported operand type(s) for /: 'float' and 'NoneType'"
     ]
    }
   ],
   "source": [
    "sim = simulator.Simulator(st.GcdcStrategy(pd.DataFrame(coin_repository.CoinRepository('ETH').get_data())))"
   ]
  },
  {
   "cell_type": "code",
   "execution_count": null,
   "metadata": {},
   "outputs": [],
   "source": [
    "# df = pd.DataFrame(coin_repository.CoinRepository('ETH').get_data())\n",
    "# s = st.GcdcStrategy(df)"
   ]
  },
  {
   "cell_type": "code",
   "execution_count": null,
   "metadata": {},
   "outputs": [],
   "source": [
    "# for x in df['close'].keys():\n",
    "#     if s.has_to_buy(x):\n",
    "#         print(x, \"buy\")\n",
    "#     if s.has_to_sell(x):\n",
    "#         print(x, \"sell\")"
   ]
  },
  {
   "cell_type": "code",
   "execution_count": null,
   "metadata": {},
   "outputs": [],
   "source": []
  },
  {
   "cell_type": "code",
   "execution_count": null,
   "metadata": {},
   "outputs": [],
   "source": [
    "# class MddCagr:\n",
    "#     def __init__(self, coin_type):\n",
    "#         self.coin_type = coin_type\n",
    "#         self.coin_full_name = {\n",
    "#             'ETH': 'ethereum',\n",
    "#             'BTC': 'bitcoin',\n",
    "#             'XRP': 'ripple'\n",
    "#         }[coin_type]\n",
    "    \n",
    "#     def check_mddcagr(self):\n",
    "#         (index, origin) = coin_repository.CoinRepository(f'{self.coin_full_name}').get_data_as_lists()\n",
    "#         data = {}\n",
    "#         new_index = index\n",
    "#         close_series = pd.Series(origin['close'], new_index)\n",
    "#         data['ma5'] = close_series.rolling(window=5).mean()\n",
    "#         data['ma20'] = close_series.rolling(window=20).mean()\n",
    "#         # df = pd.DataFrame(data, new_index)\n",
    "#         # df.plot()\n",
    "#         previous_ma5 = -1\n",
    "#         previous_ma20 = -1\n",
    "#         previous_close = -1\n",
    "#         benefits = []\n",
    "#         drawdowns = []\n",
    "#         bought = False\n",
    "#         max_close = -1\n",
    "\n",
    "#         for tuple in zip(data['ma5'], data['ma20'], origin['close'], index):\n",
    "#             if tuple[0] > tuple[1] and previous_ma5 <= previous_ma20:\n",
    "#                 print(f\"golden cross: {tuple}\")\n",
    "#                 bought = True\n",
    "#                 if len(benefits) == 0:\n",
    "#                     benefits.append(1)\n",
    "#                 else:\n",
    "#                     benefits.append(benefits[-1])\n",
    "#             elif tuple[0] < tuple[1] and previous_ma5 >= previous_ma20:\n",
    "#                 print(f\"dead cross: {tuple}\")\n",
    "#                 bought = False\n",
    "#                 benefits.append(benefits[-1] * (tuple[2] / previous_close))\n",
    "#             else:\n",
    "#                 if len(benefits) == 0:\n",
    "#                     benefits.append(1)\n",
    "#                 elif bought:\n",
    "#                     benefits.append(benefits[-1] * (tuple[2] / previous_close))\n",
    "#                 else:\n",
    "#                     benefits.append(benefits[-1])\n",
    "\n",
    "#         if (tuple[2] > max_close):\n",
    "#             max_close = tuple[2]\n",
    "\n",
    "#         drawdowns.append(1 - (tuple[2] / max_close))\n",
    "\n",
    "#         previous_ma5 = tuple[0]\n",
    "#         previous_ma20 = tuple[1]\n",
    "#         previous_close = tuple[2]\n",
    "\n",
    "#         df = pd.Series(benefits, index)\n",
    "#         df.plot()\n",
    "\n",
    "#         # df = pd.Series(drawdowns, index)\n",
    "#         # df.plot()\n",
    "\n",
    "#         print(f\"{coin_full_name}MDD: {max(drawdowns) * 100}%\")\n",
    "#         print(f\"CAGR: {(benefits[-1] - 1) * 100}%\")"
   ]
  }
 ],
 "metadata": {
  "kernelspec": {
   "display_name": "Python 3",
   "language": "python",
   "name": "python3"
  },
  "language_info": {
   "codemirror_mode": {
    "name": "ipython",
    "version": 3
   },
   "file_extension": ".py",
   "mimetype": "text/x-python",
   "name": "python",
   "nbconvert_exporter": "python",
   "pygments_lexer": "ipython3",
   "version": "3.6.5"
  }
 },
 "nbformat": 4,
 "nbformat_minor": 2
}
