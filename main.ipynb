{
 "cells": [
  {
   "cell_type": "code",
   "execution_count": 1,
   "metadata": {},
   "outputs": [],
   "source": [
    "import db"
   ]
  },
  {
   "cell_type": "code",
   "execution_count": 2,
   "metadata": {},
   "outputs": [],
   "source": [
    "import coin_repository"
   ]
  },
  {
   "cell_type": "code",
   "execution_count": 3,
   "metadata": {},
   "outputs": [],
   "source": [
    "from matplotlib import pyplot as plt\n",
    "import pandas as pd\n",
    "import math"
   ]
  },
  {
   "cell_type": "code",
   "execution_count": 4,
   "metadata": {},
   "outputs": [],
   "source": [
    "import strategies as st"
   ]
  },
  {
   "cell_type": "code",
   "execution_count": 5,
   "metadata": {},
   "outputs": [],
   "source": [
    "import simulator"
   ]
  },
  {
   "cell_type": "code",
   "execution_count": 6,
   "metadata": {},
   "outputs": [],
   "source": [
    "sim = simulator.Simulator(st.GcdcStrategy(coin_repository.CoinRepository('ETH').get_data_frame()))"
   ]
  },
  {
   "cell_type": "code",
   "execution_count": 7,
   "metadata": {},
   "outputs": [
    {
     "data": {
      "text/plain": [
       "<matplotlib.axes._subplots.AxesSubplot at 0x1121c6860>"
      ]
     },
     "execution_count": 7,
     "metadata": {},
     "output_type": "execute_result"
    },
    {
     "data": {
      "image/png": "[encoded data removed]",
      "text/plain": [
       "<Figure size 432x288 with 1 Axes>"
      ]
     },
     "metadata": {},
     "output_type": "display_data"
    }
   ],
   "source": [
    "sim.get_data_frame()['benefit'].plot()"
   ]
  },
  {
   "cell_type": "code",
   "execution_count": 8,
   "metadata": {},
   "outputs": [
    {
     "data": {
      "text/plain": [
       "0.7348290628893885"
      ]
     },
     "execution_count": 8,
     "metadata": {},
     "output_type": "execute_result"
    }
   ],
   "source": [
    "sim.get_mdd()"
   ]
  },
  {
   "cell_type": "code",
   "execution_count": 9,
   "metadata": {},
   "outputs": [
    {
     "data": {
      "text/plain": [
       "2.4765565447263733"
      ]
     },
     "execution_count": 9,
     "metadata": {},
     "output_type": "execute_result"
    }
   ],
   "source": [
    "sim.get_cagr()"
   ]
  },
  {
   "cell_type": "code",
   "execution_count": 10,
   "metadata": {},
   "outputs": [],
   "source": [
    "# df = pd.DataFrame(coin_repository.CoinRepository('ETH').get_data())\n",
    "# s = st.GcdcStrategy(df)"
   ]
  },
  {
   "cell_type": "code",
   "execution_count": 11,
   "metadata": {},
   "outputs": [],
   "source": [
    "# for x in df['close'].keys():\n",
    "#     if s.has_to_buy(x):\n",
    "#         print(x, \"buy\")\n",
    "#     if s.has_to_sell(x):\n",
    "#         print(x, \"sell\")"
   ]
  },
  {
   "cell_type": "code",
   "execution_count": null,
   "metadata": {},
   "outputs": [],
   "source": []
  },
  {
   "cell_type": "code",
   "execution_count": 12,
   "metadata": {},
   "outputs": [],
   "source": [
    "# class MddCagr:\n",
    "#     def __init__(self, coin_type):\n",
    "#         self.coin_type = coin_type\n",
    "#         self.coin_full_name = {\n",
    "#             'ETH': 'ethereum',\n",
    "#             'BTC': 'bitcoin',\n",
    "#             'XRP': 'ripple'\n",
    "#         }[coin_type]\n",
    "    \n",
    "#     def check_mddcagr(self):\n",
    "#         (index, origin) = coin_repository.CoinRepository(f'{self.coin_full_name}').get_data_as_lists()\n",
    "#         data = {}\n",
    "#         new_index = index\n",
    "#         close_series = pd.Series(origin['close'], new_index)\n",
    "#         data['ma5'] = close_series.rolling(window=5).mean()\n",
    "#         data['ma20'] = close_series.rolling(window=20).mean()\n",
    "#         # df = pd.DataFrame(data, new_index)\n",
    "#         # df.plot()\n",
    "#         previous_ma5 = -1\n",
    "#         previous_ma20 = -1\n",
    "#         previous_close = -1\n",
    "#         benefits = []\n",
    "#         drawdowns = []\n",
    "#         bought = False\n",
    "#         max_close = -1\n",
    "\n",
    "#         for tuple in zip(data['ma5'], data['ma20'], origin['close'], index):\n",
    "#             if tuple[0] > tuple[1] and previous_ma5 <= previous_ma20:\n",
    "#                 print(f\"golden cross: {tuple}\")\n",
    "#                 bought = True\n",
    "#                 if len(benefits) == 0:\n",
    "#                     benefits.append(1)\n",
    "#                 else:\n",
    "#                     benefits.append(benefits[-1])\n",
    "#             elif tuple[0] < tuple[1] and previous_ma5 >= previous_ma20:\n",
    "#                 print(f\"dead cross: {tuple}\")\n",
    "#                 bought = False\n",
    "#                 benefits.append(benefits[-1] * (tuple[2] / previous_close))\n",
    "#             else:\n",
    "#                 if len(benefits) == 0:\n",
    "#                     benefits.append(1)\n",
    "#                 elif bought:\n",
    "#                     benefits.append(benefits[-1] * (tuple[2] / previous_close))\n",
    "#                 else:\n",
    "#                     benefits.append(benefits[-1])\n",
    "\n",
    "#         if (tuple[2] > max_close):\n",
    "#             max_close = tuple[2]\n",
    "\n",
    "#         drawdowns.append(1 - (tuple[2] / max_close))\n",
    "\n",
    "#         previous_ma5 = tuple[0]\n",
    "#         previous_ma20 = tuple[1]\n",
    "#         previous_close = tuple[2]\n",
    "\n",
    "#         df = pd.Series(benefits, index)\n",
    "#         df.plot()\n",
    "\n",
    "#         # df = pd.Series(drawdowns, index)\n",
    "#         # df.plot()\n",
    "\n",
    "#         print(f\"{coin_full_name}MDD: {max(drawdowns) * 100}%\")\n",
    "#         print(f\"CAGR: {(benefits[-1] - 1) * 100}%\")"
   ]
  }
 ],
 "metadata": {
  "kernelspec": {
   "display_name": "Python 3",
   "language": "python",
   "name": "python3"
  },
  "language_info": {
   "codemirror_mode": {
    "name": "ipython",
    "version": 3
   },
   "file_extension": ".py",
   "mimetype": "text/x-python",
   "name": "python",
   "nbconvert_exporter": "python",
   "pygments_lexer": "ipython3",
   "version": "3.7.0"
  }
 },
 "nbformat": 4,
 "nbformat_minor": 2
}
